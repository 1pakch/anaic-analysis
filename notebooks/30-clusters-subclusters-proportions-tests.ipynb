{
 "cells": [
  {
   "cell_type": "code",
   "execution_count": 1,
   "metadata": {},
   "outputs": [
    {
     "name": "stderr",
     "output_type": "stream",
     "text": [
      "Warning message in system(\"timedatectl\", intern = TRUE):\n",
      "\"running command 'timedatectl' had status 1\"\n",
      "-- \u001b[1mAttaching packages\u001b[22m --------------------------------------- tidyverse 1.3.0 --\n",
      "\n",
      "\u001b[32mv\u001b[39m \u001b[34mggplot2\u001b[39m 3.3.5     \u001b[32mv\u001b[39m \u001b[34mdplyr  \u001b[39m 1.0.7\n",
      "\u001b[32mv\u001b[39m \u001b[34mtibble \u001b[39m 3.1.6     \u001b[32mv\u001b[39m \u001b[34mstringr\u001b[39m 1.4.0\n",
      "\u001b[32mv\u001b[39m \u001b[34mtidyr  \u001b[39m 1.1.4     \u001b[32mv\u001b[39m \u001b[34mforcats\u001b[39m 0.5.1\n",
      "\u001b[32mv\u001b[39m \u001b[34mreadr  \u001b[39m 2.1.0     \n",
      "\n",
      "-- \u001b[1mConflicts\u001b[22m ------------------------------------------ tidyverse_conflicts() --\n",
      "\u001b[31mx\u001b[39m \u001b[34mdplyr\u001b[39m::\u001b[32mfilter()\u001b[39m masks \u001b[34mstats\u001b[39m::filter()\n",
      "\u001b[31mx\u001b[39m \u001b[34mdplyr\u001b[39m::\u001b[32mlag()\u001b[39m    masks \u001b[34mstats\u001b[39m::lag()\n",
      "\n"
     ]
    }
   ],
   "source": [
    "library(purrr)\n",
    "library(tidyverse)"
   ]
  },
  {
   "cell_type": "code",
   "execution_count": 2,
   "metadata": {},
   "outputs": [],
   "source": [
    "source('paths.R')\n",
    "source('misc.R')\n",
    "source('factors.R')"
   ]
  },
  {
   "cell_type": "code",
   "execution_count": 3,
   "metadata": {},
   "outputs": [],
   "source": [
    "m <- load_object(path_at('out', 'cache')('annotated', 'metadata', 'Robj'))"
   ]
  },
  {
   "cell_type": "code",
   "execution_count": 4,
   "metadata": {},
   "outputs": [],
   "source": [
    "subcluster_long <- function(cell_type_) (\n",
    "    m\n",
    "    %>% filter(cell_type == cell_type_)\n",
    "    %>% restore_subcluster()\n",
    "    %>% filter(!is.na(subcluster))\n",
    "    %>% select(condition_short, subcluster)    \n",
    "    %>% rename(category=subcluster)\n",
    ")\n",
    "    \n",
    "cell_type_long <- function() (\n",
    "    m\n",
    "    %>% filter(!is.na(cell_type))\n",
    "    %>% select(condition_short, cell_type)\n",
    "    %>% rename(category=cell_type)\n",
    ")\n",
    "\n",
    "ct.split <- list(cell_type=cell_type_long())\n",
    "subc.splits <- (cell_type_levels %>% set_names() %>% map(subcluster_long))\n",
    "splits <- append(ct.split, subc.splits)"
   ]
  },
  {
   "cell_type": "code",
   "execution_count": 5,
   "metadata": {},
   "outputs": [
    {
     "data": {
      "text/html": [
       "<table class=\"dataframe\">\n",
       "<caption>A tibble: 6 × 5</caption>\n",
       "<thead>\n",
       "\t<tr><th scope=col>condition_short</th><th scope=col>Steady state</th><th scope=col>Immature</th><th scope=col>Inflamed IFN-λ−</th><th scope=col>Inflamed IFN-λ+</th></tr>\n",
       "\t<tr><th scope=col>&lt;ord&gt;</th><th scope=col>&lt;dbl&gt;</th><th scope=col>&lt;dbl&gt;</th><th scope=col>&lt;dbl&gt;</th><th scope=col>&lt;dbl&gt;</th></tr>\n",
       "</thead>\n",
       "<tbody>\n",
       "\t<tr><td>M    </td><td>222</td><td>155</td><td>  8</td><td>  0</td></tr>\n",
       "\t<tr><td>V    </td><td> 95</td><td> 82</td><td>131</td><td>114</td></tr>\n",
       "\t<tr><td>VCy  </td><td>393</td><td>111</td><td> 78</td><td> 18</td></tr>\n",
       "\t<tr><td>VIf  </td><td>194</td><td>165</td><td> 73</td><td> 16</td></tr>\n",
       "\t<tr><td>VCyIf</td><td>265</td><td>153</td><td> 66</td><td>  1</td></tr>\n",
       "\t<tr><td>MCyIf</td><td>237</td><td>157</td><td> 36</td><td>  1</td></tr>\n",
       "</tbody>\n",
       "</table>\n"
      ],
      "text/latex": [
       "A tibble: 6 × 5\n",
       "\\begin{tabular}{lllll}\n",
       " condition\\_short & Steady state & Immature & Inflamed IFN-λ− & Inflamed IFN-λ+\\\\\n",
       " <ord> & <dbl> & <dbl> & <dbl> & <dbl>\\\\\n",
       "\\hline\n",
       "\t M     & 222 & 155 &   8 &   0\\\\\n",
       "\t V     &  95 &  82 & 131 & 114\\\\\n",
       "\t VCy   & 393 & 111 &  78 &  18\\\\\n",
       "\t VIf   & 194 & 165 &  73 &  16\\\\\n",
       "\t VCyIf & 265 & 153 &  66 &   1\\\\\n",
       "\t MCyIf & 237 & 157 &  36 &   1\\\\\n",
       "\\end{tabular}\n"
      ],
      "text/markdown": [
       "\n",
       "A tibble: 6 × 5\n",
       "\n",
       "| condition_short &lt;ord&gt; | Steady state &lt;dbl&gt; | Immature &lt;dbl&gt; | Inflamed IFN-λ− &lt;dbl&gt; | Inflamed IFN-λ+ &lt;dbl&gt; |\n",
       "|---|---|---|---|---|\n",
       "| M     | 222 | 155 |   8 |   0 |\n",
       "| V     |  95 |  82 | 131 | 114 |\n",
       "| VCy   | 393 | 111 |  78 |  18 |\n",
       "| VIf   | 194 | 165 |  73 |  16 |\n",
       "| VCyIf | 265 | 153 |  66 |   1 |\n",
       "| MCyIf | 237 | 157 |  36 |   1 |\n",
       "\n"
      ],
      "text/plain": [
       "  condition_short Steady state Immature Inflamed IFN-<U+03BB><U+2212>    \n",
       "1 M               222          155        8                          \n",
       "2 V                95           82      131                          \n",
       "3 VCy             393          111       78                          \n",
       "4 VIf             194          165       73                          \n",
       "5 VCyIf           265          153       66                          \n",
       "6 MCyIf           237          157       36                          \n",
       "  Inflamed IFN-<U+03BB>+  \n",
       "1   0                   \n",
       "2 114                   \n",
       "3  18                   \n",
       "4  16                   \n",
       "5   1                   \n",
       "6   1                   "
      ]
     },
     "metadata": {},
     "output_type": "display_data"
    }
   ],
   "source": [
    "tabulate_ <- function(long) (\n",
    "    long\n",
    "    %>% group_by(category, condition_short)\n",
    "    %>% count()\n",
    "    %>% ungroup()\n",
    "    %>% pivot_wider(names_from=category, values_from=n)\n",
    "    %>% arrange(condition_short)\n",
    "    %>% mutate_if(is.numeric, ~replace_na(.x, 0))\n",
    ")\n",
    "tabs <- splits %>% map(tabulate_)\n",
    "tabs[[5]]"
   ]
  },
  {
   "cell_type": "code",
   "execution_count": 6,
   "metadata": {},
   "outputs": [],
   "source": [
    ".chisq_test_matrix <- function(m) {\n",
    "    if (1 == ncol(m) | 1 == nrow(m)) return(NA)\n",
    "    r <- chisq.test(m, simulate.p.value = TRUE, B=1000000)\n",
    "    #r <- chisq.test(m)\n",
    "    return(r$p.value)\n",
    "}\n",
    "\n",
    "chisq_test <- function(data) (\n",
    "    data\n",
    "    %>% select_if(is.numeric)\n",
    "    %>% select(where(~ any(. != 0)))\n",
    "    %>% as.matrix()\n",
    "    %>% .chisq_test_matrix()\n",
    ")\n"
   ]
  },
  {
   "cell_type": "code",
   "execution_count": 7,
   "metadata": {},
   "outputs": [],
   "source": [
    "condition_pairs_selectors <- (\n",
    "    c('V_vs_M', 'VCy_vs_V', 'VIf_vs_V', 'VCyIf_vs_V', 'VCy_vs_VIf',\n",
    "      'VCyIf_vs_VCy', 'VCyIf_vs_VIf', 'MCyIf_vs_M', 'VCyIf_vs_M')\n",
    "    %>% set_names()\n",
    "    %>% map(~str_split(.x, '_vs_')[[1]])\n",
    "    %>% map(~function(df)(df %>% filter(condition_short %in% .x)))\n",
    ")\n",
    "\n",
    "test_condition_pairs <- function(tbl)(\n",
    "    condition_pairs_selectors\n",
    "    %>% map(~.x(tbl))\n",
    "    %>% map(chisq_test)\n",
    ")\n",
    "    \n",
    "p_vals <- tabs %>% map(test_condition_pairs)"
   ]
  },
  {
   "cell_type": "code",
   "execution_count": 8,
   "metadata": {},
   "outputs": [
    {
     "data": {
      "text/html": [
       "<table class=\"dataframe\">\n",
       "<caption>A tibble: 9 × 6</caption>\n",
       "<thead>\n",
       "\t<tr><th scope=col>condition_pair</th><th scope=col>cell_type</th><th scope=col>Basal</th><th scope=col>BdiS</th><th scope=col>Secretory</th><th scope=col>Ciliated</th></tr>\n",
       "\t<tr><th scope=col>&lt;chr&gt;</th><th scope=col>&lt;chr&gt;</th><th scope=col>&lt;chr&gt;</th><th scope=col>&lt;chr&gt;</th><th scope=col>&lt;chr&gt;</th><th scope=col>&lt;chr&gt;</th></tr>\n",
       "</thead>\n",
       "<tbody>\n",
       "\t<tr><td><span style=white-space:pre-wrap>V_vs_M      </span></td><td>&lt;0.001</td><td>&lt;0.001</td><td>&lt;0.001</td><td>&lt;0.001</td><td>&lt;0.001</td></tr>\n",
       "\t<tr><td><span style=white-space:pre-wrap>VCy_vs_V    </span></td><td>&lt;0.001</td><td>&lt;0.001</td><td>&lt;0.001</td><td>&lt;0.001</td><td>&lt;0.001</td></tr>\n",
       "\t<tr><td><span style=white-space:pre-wrap>VIf_vs_V    </span></td><td>&lt;0.001</td><td>&lt;0.001</td><td>&lt;0.001</td><td>&lt;0.001</td><td>&lt;0.001</td></tr>\n",
       "\t<tr><td><span style=white-space:pre-wrap>VCyIf_vs_V  </span></td><td>0.002 </td><td>&lt;0.001</td><td>&lt;0.001</td><td>&lt;0.001</td><td>&lt;0.001</td></tr>\n",
       "\t<tr><td><span style=white-space:pre-wrap>VCy_vs_VIf  </span></td><td>0.012 </td><td>0.606 </td><td>&lt;0.001</td><td>&lt;0.001</td><td>&lt;0.001</td></tr>\n",
       "\t<tr><td>VCyIf_vs_VCy</td><td>&lt;0.001</td><td>&lt;0.001</td><td>&lt;0.001</td><td>&lt;0.001</td><td>&lt;0.001</td></tr>\n",
       "\t<tr><td>VCyIf_vs_VIf</td><td>&lt;0.001</td><td>&lt;0.001</td><td>0.002 </td><td>&lt;0.001</td><td>&lt;0.001</td></tr>\n",
       "\t<tr><td><span style=white-space:pre-wrap>MCyIf_vs_M  </span></td><td>0.011 </td><td>&lt;0.001</td><td>0.001 </td><td>0.150 </td><td>&lt;0.001</td></tr>\n",
       "\t<tr><td><span style=white-space:pre-wrap>VCyIf_vs_M  </span></td><td>&lt;0.001</td><td>&lt;0.001</td><td>0.064 </td><td>&lt;0.001</td><td>&lt;0.001</td></tr>\n",
       "</tbody>\n",
       "</table>\n"
      ],
      "text/latex": [
       "A tibble: 9 × 6\n",
       "\\begin{tabular}{llllll}\n",
       " condition\\_pair & cell\\_type & Basal & BdiS & Secretory & Ciliated\\\\\n",
       " <chr> & <chr> & <chr> & <chr> & <chr> & <chr>\\\\\n",
       "\\hline\n",
       "\t V\\_vs\\_M       & <0.001 & <0.001 & <0.001 & <0.001 & <0.001\\\\\n",
       "\t VCy\\_vs\\_V     & <0.001 & <0.001 & <0.001 & <0.001 & <0.001\\\\\n",
       "\t VIf\\_vs\\_V     & <0.001 & <0.001 & <0.001 & <0.001 & <0.001\\\\\n",
       "\t VCyIf\\_vs\\_V   & 0.002  & <0.001 & <0.001 & <0.001 & <0.001\\\\\n",
       "\t VCy\\_vs\\_VIf   & 0.012  & 0.606  & <0.001 & <0.001 & <0.001\\\\\n",
       "\t VCyIf\\_vs\\_VCy & <0.001 & <0.001 & <0.001 & <0.001 & <0.001\\\\\n",
       "\t VCyIf\\_vs\\_VIf & <0.001 & <0.001 & 0.002  & <0.001 & <0.001\\\\\n",
       "\t MCyIf\\_vs\\_M   & 0.011  & <0.001 & 0.001  & 0.150  & <0.001\\\\\n",
       "\t VCyIf\\_vs\\_M   & <0.001 & <0.001 & 0.064  & <0.001 & <0.001\\\\\n",
       "\\end{tabular}\n"
      ],
      "text/markdown": [
       "\n",
       "A tibble: 9 × 6\n",
       "\n",
       "| condition_pair &lt;chr&gt; | cell_type &lt;chr&gt; | Basal &lt;chr&gt; | BdiS &lt;chr&gt; | Secretory &lt;chr&gt; | Ciliated &lt;chr&gt; |\n",
       "|---|---|---|---|---|---|\n",
       "| V_vs_M       | &lt;0.001 | &lt;0.001 | &lt;0.001 | &lt;0.001 | &lt;0.001 |\n",
       "| VCy_vs_V     | &lt;0.001 | &lt;0.001 | &lt;0.001 | &lt;0.001 | &lt;0.001 |\n",
       "| VIf_vs_V     | &lt;0.001 | &lt;0.001 | &lt;0.001 | &lt;0.001 | &lt;0.001 |\n",
       "| VCyIf_vs_V   | 0.002  | &lt;0.001 | &lt;0.001 | &lt;0.001 | &lt;0.001 |\n",
       "| VCy_vs_VIf   | 0.012  | 0.606  | &lt;0.001 | &lt;0.001 | &lt;0.001 |\n",
       "| VCyIf_vs_VCy | &lt;0.001 | &lt;0.001 | &lt;0.001 | &lt;0.001 | &lt;0.001 |\n",
       "| VCyIf_vs_VIf | &lt;0.001 | &lt;0.001 | 0.002  | &lt;0.001 | &lt;0.001 |\n",
       "| MCyIf_vs_M   | 0.011  | &lt;0.001 | 0.001  | 0.150  | &lt;0.001 |\n",
       "| VCyIf_vs_M   | &lt;0.001 | &lt;0.001 | 0.064  | &lt;0.001 | &lt;0.001 |\n",
       "\n"
      ],
      "text/plain": [
       "  condition_pair cell_type Basal  BdiS   Secretory Ciliated\n",
       "1 V_vs_M         <0.001    <0.001 <0.001 <0.001    <0.001  \n",
       "2 VCy_vs_V       <0.001    <0.001 <0.001 <0.001    <0.001  \n",
       "3 VIf_vs_V       <0.001    <0.001 <0.001 <0.001    <0.001  \n",
       "4 VCyIf_vs_V     0.002     <0.001 <0.001 <0.001    <0.001  \n",
       "5 VCy_vs_VIf     0.012     0.606  <0.001 <0.001    <0.001  \n",
       "6 VCyIf_vs_VCy   <0.001    <0.001 <0.001 <0.001    <0.001  \n",
       "7 VCyIf_vs_VIf   <0.001    <0.001 0.002  <0.001    <0.001  \n",
       "8 MCyIf_vs_M     0.011     <0.001 0.001  0.150     <0.001  \n",
       "9 VCyIf_vs_M     <0.001    <0.001 0.064  <0.001    <0.001  "
      ]
     },
     "metadata": {},
     "output_type": "display_data"
    }
   ],
   "source": [
    "(\n",
    "    p_vals\n",
    "    %>% bind_rows(.id = 'contrast') \n",
    "    %>% pivot_longer(where(is.numeric), names_to = 'condition_pair')\n",
    "    %>% mutate(value = scales::pvalue(value, accuracy=1e-3))\n",
    "    %>% pivot_wider(names_from=contrast, values_from=value)\n",
    ")"
   ]
  },
  {
   "cell_type": "code",
   "execution_count": null,
   "metadata": {},
   "outputs": [],
   "source": []
  }
 ],
 "metadata": {
  "kernelspec": {
   "display_name": "R",
   "language": "R",
   "name": "ir"
  },
  "language_info": {
   "codemirror_mode": "r",
   "file_extension": ".r",
   "mimetype": "text/x-r-source",
   "name": "R",
   "pygments_lexer": "r",
   "version": "4.0.3"
  }
 },
 "nbformat": 4,
 "nbformat_minor": 4
}
