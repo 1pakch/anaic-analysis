{
 "cells": [
  {
   "cell_type": "code",
   "execution_count": 3,
   "id": "604d6d09",
   "metadata": {},
   "outputs": [
    {
     "name": "stderr",
     "output_type": "stream",
     "text": [
      "Attaching SeuratObject\n",
      "\n"
     ]
    }
   ],
   "source": [
    "library(Seurat)"
   ]
  },
  {
   "cell_type": "code",
   "execution_count": 4,
   "id": "310776f3",
   "metadata": {},
   "outputs": [],
   "source": [
    "source(\"paths.R\")\n",
    "source(\"misc.R\")"
   ]
  },
  {
   "cell_type": "code",
   "execution_count": 5,
   "id": "1db2af10",
   "metadata": {},
   "outputs": [],
   "source": [
    "d <- load_object(path_at(\"out\", \"cache\")(\"annotated\", \"Robj\"))"
   ]
  },
  {
   "cell_type": "code",
   "execution_count": 12,
   "id": "0ca73fba",
   "metadata": {},
   "outputs": [
    {
     "data": {
      "text/plain": [
       "NULL"
      ]
     },
     "metadata": {},
     "output_type": "display_data"
    }
   ],
   "source": [
    "Matrix::writeMM(d@assays$RNA@counts, file=\"export/counts.mtx\")"
   ]
  },
  {
   "cell_type": "code",
   "execution_count": 13,
   "id": "c1d140ed",
   "metadata": {},
   "outputs": [],
   "source": [
    "rownames(d) %>% readr::write_lines(\"export/genes.txt\")"
   ]
  },
  {
   "cell_type": "code",
   "execution_count": 15,
   "id": "7ac19af8",
   "metadata": {},
   "outputs": [],
   "source": [
    "colnames(d) %>% readr::write_lines(\"export/barcodes.txt\")"
   ]
  },
  {
   "cell_type": "code",
   "execution_count": 18,
   "id": "21b8bcfb",
   "metadata": {},
   "outputs": [],
   "source": [
    "d@meta.data %>% readr::write_csv(\"export/metadata.csv\")"
   ]
  },
  {
   "cell_type": "code",
   "execution_count": 19,
   "id": "96f51058",
   "metadata": {},
   "outputs": [
    {
     "data": {
      "text/html": [
       "4363"
      ],
      "text/latex": [
       "4363"
      ],
      "text/markdown": [
       "4363"
      ],
      "text/plain": [
       "[1] 4363"
      ]
     },
     "metadata": {},
     "output_type": "display_data"
    }
   ],
   "source": [
    "max(d@assays$RNA@counts)"
   ]
  },
  {
   "cell_type": "code",
   "execution_count": null,
   "id": "12ea449a",
   "metadata": {},
   "outputs": [],
   "source": []
  }
 ],
 "metadata": {
  "kernelspec": {
   "display_name": "R",
   "language": "R",
   "name": "ir"
  },
  "language_info": {
   "codemirror_mode": "r",
   "file_extension": ".r",
   "mimetype": "text/x-r-source",
   "name": "R",
   "pygments_lexer": "r",
   "version": "4.1.2"
  }
 },
 "nbformat": 4,
 "nbformat_minor": 5
}
