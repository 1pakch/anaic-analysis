{
 "cells": [
  {
   "cell_type": "code",
   "execution_count": 1,
   "metadata": {},
   "outputs": [
    {
     "name": "stderr",
     "output_type": "stream",
     "text": [
      "Warning message in system(\"timedatectl\", intern = TRUE):\n",
      "\"running command 'timedatectl' had status 1\"\n",
      "-- \u001b[1mAttaching packages\u001b[22m --------------------------------------- tidyverse 1.3.0 --\n",
      "\n",
      "\u001b[32mv\u001b[39m \u001b[34mggplot2\u001b[39m 3.3.5     \u001b[32mv\u001b[39m \u001b[34mdplyr  \u001b[39m 1.0.7\n",
      "\u001b[32mv\u001b[39m \u001b[34mtibble \u001b[39m 3.1.6     \u001b[32mv\u001b[39m \u001b[34mstringr\u001b[39m 1.4.0\n",
      "\u001b[32mv\u001b[39m \u001b[34mtidyr  \u001b[39m 1.1.4     \u001b[32mv\u001b[39m \u001b[34mforcats\u001b[39m 0.5.1\n",
      "\u001b[32mv\u001b[39m \u001b[34mreadr  \u001b[39m 2.1.0     \n",
      "\n",
      "-- \u001b[1mConflicts\u001b[22m ------------------------------------------ tidyverse_conflicts() --\n",
      "\u001b[31mx\u001b[39m \u001b[34mdplyr\u001b[39m::\u001b[32mfilter()\u001b[39m masks \u001b[34mstats\u001b[39m::filter()\n",
      "\u001b[31mx\u001b[39m \u001b[34mdplyr\u001b[39m::\u001b[32mlag()\u001b[39m    masks \u001b[34mstats\u001b[39m::lag()\n",
      "\n",
      "Registered S3 method overwritten by 'spatstat.geom':\n",
      "  method     from\n",
      "  print.boxx cli \n",
      "\n",
      "Attaching SeuratObject\n",
      "\n",
      "\n",
      "Attaching package: 'scales'\n",
      "\n",
      "\n",
      "The following object is masked from 'package:readr':\n",
      "\n",
      "    col_factor\n",
      "\n",
      "\n",
      "The following object is masked from 'package:purrr':\n",
      "\n",
      "    discard\n",
      "\n",
      "\n"
     ]
    }
   ],
   "source": [
    "library(purrr)\n",
    "library(tidyverse)\n",
    "library(Seurat)\n",
    "library(ggplot2)\n",
    "library(scales)"
   ]
  },
  {
   "cell_type": "code",
   "execution_count": 2,
   "metadata": {},
   "outputs": [],
   "source": [
    "source('paths.R')\n",
    "source('misc.R')\n",
    "source('factors.R')"
   ]
  },
  {
   "cell_type": "code",
   "execution_count": 3,
   "metadata": {},
   "outputs": [],
   "source": [
    "p_from_odds <- function(o) o/(1+o)\n",
    "odds_from_p <- function(p) p/(1-p)"
   ]
  },
  {
   "cell_type": "markdown",
   "metadata": {},
   "source": [
    "# 1. Load Data"
   ]
  },
  {
   "cell_type": "code",
   "execution_count": 4,
   "metadata": {},
   "outputs": [],
   "source": [
    "m <- load_object(path_at('out', 'cache')('annotated', 'metadata', 'Robj')) %>% filter(!is.na(cell_type))"
   ]
  },
  {
   "cell_type": "markdown",
   "metadata": {},
   "source": [
    "# 2. Prepare data"
   ]
  },
  {
   "cell_type": "markdown",
   "metadata": {},
   "source": [
    "## 2.1 VLC counts"
   ]
  },
  {
   "cell_type": "code",
   "execution_count": 5,
   "metadata": {},
   "outputs": [
    {
     "name": "stderr",
     "output_type": "stream",
     "text": [
      "`summarise()` has grouped output by 'cell_type', 'condition_short'. You can override using the `.groups` argument.\n",
      "\n"
     ]
    },
    {
     "data": {
      "text/html": [
       "<table class=\"dataframe\">\n",
       "<caption>A tibble: 6 × 4</caption>\n",
       "<thead>\n",
       "\t<tr><th scope=col>cell_type</th><th scope=col>condition_short</th><th scope=col>vlc_c</th><th scope=col>n_class</th></tr>\n",
       "\t<tr><th scope=col>&lt;ord&gt;</th><th scope=col>&lt;ord&gt;</th><th scope=col>&lt;ord&gt;</th><th scope=col>&lt;int&gt;</th></tr>\n",
       "</thead>\n",
       "<tbody>\n",
       "\t<tr><td>Basal</td><td>M  </td><td>Insignificant</td><td>558</td></tr>\n",
       "\t<tr><td>Basal</td><td>V  </td><td>Medium       </td><td>562</td></tr>\n",
       "\t<tr><td>Basal</td><td>V  </td><td>High         </td><td> 17</td></tr>\n",
       "\t<tr><td>Basal</td><td>VCy</td><td>Insignificant</td><td>133</td></tr>\n",
       "\t<tr><td>Basal</td><td>VCy</td><td>Low          </td><td>950</td></tr>\n",
       "\t<tr><td>Basal</td><td>VCy</td><td>Medium       </td><td> 68</td></tr>\n",
       "</tbody>\n",
       "</table>\n"
      ],
      "text/latex": [
       "A tibble: 6 × 4\n",
       "\\begin{tabular}{llll}\n",
       " cell\\_type & condition\\_short & vlc\\_c & n\\_class\\\\\n",
       " <ord> & <ord> & <ord> & <int>\\\\\n",
       "\\hline\n",
       "\t Basal & M   & Insignificant & 558\\\\\n",
       "\t Basal & V   & Medium        & 562\\\\\n",
       "\t Basal & V   & High          &  17\\\\\n",
       "\t Basal & VCy & Insignificant & 133\\\\\n",
       "\t Basal & VCy & Low           & 950\\\\\n",
       "\t Basal & VCy & Medium        &  68\\\\\n",
       "\\end{tabular}\n"
      ],
      "text/markdown": [
       "\n",
       "A tibble: 6 × 4\n",
       "\n",
       "| cell_type &lt;ord&gt; | condition_short &lt;ord&gt; | vlc_c &lt;ord&gt; | n_class &lt;int&gt; |\n",
       "|---|---|---|---|\n",
       "| Basal | M   | Insignificant | 558 |\n",
       "| Basal | V   | Medium        | 562 |\n",
       "| Basal | V   | High          |  17 |\n",
       "| Basal | VCy | Insignificant | 133 |\n",
       "| Basal | VCy | Low           | 950 |\n",
       "| Basal | VCy | Medium        |  68 |\n",
       "\n"
      ],
      "text/plain": [
       "  cell_type condition_short vlc_c         n_class\n",
       "1 Basal     M               Insignificant 558    \n",
       "2 Basal     V               Medium        562    \n",
       "3 Basal     V               High           17    \n",
       "4 Basal     VCy             Insignificant 133    \n",
       "5 Basal     VCy             Low           950    \n",
       "6 Basal     VCy             Medium         68    "
      ]
     },
     "metadata": {},
     "output_type": "display_data"
    }
   ],
   "source": [
    "vlc_counts_c <- (\n",
    "    m\n",
    "    %>% group_by(condition_short, cell_type, viral_load_class) %>% count(name='n_class')\n",
    "    %>% mutate(vlc_c = viral_load_class %>% fct_collapse(`Insignificant`=c('Zero', 'Noise')))\n",
    "    %>% group_by(cell_type, condition_short, vlc_c)\n",
    "    %>% summarize(n_class = sum(n_class))\n",
    "    %>% ungroup()\n",
    ")\n",
    "vlc_counts_c %>% head()"
   ]
  },
  {
   "cell_type": "markdown",
   "metadata": {},
   "source": [
    "## 2.2 Expand to have all possible combinations"
   ]
  },
  {
   "cell_type": "code",
   "execution_count": 6,
   "metadata": {},
   "outputs": [
    {
     "name": "stderr",
     "output_type": "stream",
     "text": [
      "Joining, by = c(\"cell_type\", \"condition_short\", \"vlc_c\")\n",
      "\n"
     ]
    },
    {
     "data": {
      "text/html": [
       "<table class=\"dataframe\">\n",
       "<caption>A tibble: 6 × 4</caption>\n",
       "<thead>\n",
       "\t<tr><th scope=col>cell_type</th><th scope=col>condition_short</th><th scope=col>vlc_c</th><th scope=col>n_class</th></tr>\n",
       "\t<tr><th scope=col>&lt;ord&gt;</th><th scope=col>&lt;ord&gt;</th><th scope=col>&lt;ord&gt;</th><th scope=col>&lt;dbl&gt;</th></tr>\n",
       "</thead>\n",
       "<tbody>\n",
       "\t<tr><td>Basal</td><td>M</td><td>Insignificant</td><td>558</td></tr>\n",
       "\t<tr><td>Basal</td><td>M</td><td>Low          </td><td>  0</td></tr>\n",
       "\t<tr><td>Basal</td><td>M</td><td>Medium       </td><td>  0</td></tr>\n",
       "\t<tr><td>Basal</td><td>M</td><td>High         </td><td>  0</td></tr>\n",
       "\t<tr><td>Basal</td><td>V</td><td>Insignificant</td><td>  0</td></tr>\n",
       "\t<tr><td>Basal</td><td>V</td><td>Low          </td><td>  0</td></tr>\n",
       "</tbody>\n",
       "</table>\n"
      ],
      "text/latex": [
       "A tibble: 6 × 4\n",
       "\\begin{tabular}{llll}\n",
       " cell\\_type & condition\\_short & vlc\\_c & n\\_class\\\\\n",
       " <ord> & <ord> & <ord> & <dbl>\\\\\n",
       "\\hline\n",
       "\t Basal & M & Insignificant & 558\\\\\n",
       "\t Basal & M & Low           &   0\\\\\n",
       "\t Basal & M & Medium        &   0\\\\\n",
       "\t Basal & M & High          &   0\\\\\n",
       "\t Basal & V & Insignificant &   0\\\\\n",
       "\t Basal & V & Low           &   0\\\\\n",
       "\\end{tabular}\n"
      ],
      "text/markdown": [
       "\n",
       "A tibble: 6 × 4\n",
       "\n",
       "| cell_type &lt;ord&gt; | condition_short &lt;ord&gt; | vlc_c &lt;ord&gt; | n_class &lt;dbl&gt; |\n",
       "|---|---|---|---|\n",
       "| Basal | M | Insignificant | 558 |\n",
       "| Basal | M | Low           |   0 |\n",
       "| Basal | M | Medium        |   0 |\n",
       "| Basal | M | High          |   0 |\n",
       "| Basal | V | Insignificant |   0 |\n",
       "| Basal | V | Low           |   0 |\n",
       "\n"
      ],
      "text/plain": [
       "  cell_type condition_short vlc_c         n_class\n",
       "1 Basal     M               Insignificant 558    \n",
       "2 Basal     M               Low             0    \n",
       "3 Basal     M               Medium          0    \n",
       "4 Basal     M               High            0    \n",
       "5 Basal     V               Insignificant   0    \n",
       "6 Basal     V               Low             0    "
      ]
     },
     "metadata": {},
     "output_type": "display_data"
    }
   ],
   "source": [
    "vlc_counts_c_full <- (\n",
    "    vlc_counts_c\n",
    "    %>% expand(cell_type, condition_short, vlc_c)\n",
    "    %>% left_join(vlc_counts_c)\n",
    "    %>% mutate(n_class = n_class %>% replace_na(0))\n",
    ")\n",
    "\n",
    "vlc_counts_c_full %>% head()"
   ]
  },
  {
   "cell_type": "code",
   "execution_count": 7,
   "metadata": {},
   "outputs": [
    {
     "data": {
      "text/html": [
       "<table class=\"dataframe\">\n",
       "<caption>A tibble: 6 × 6</caption>\n",
       "<thead>\n",
       "\t<tr><th scope=col>cell_type</th><th scope=col>condition_short</th><th scope=col>Insignificant</th><th scope=col>Low</th><th scope=col>Medium</th><th scope=col>High</th></tr>\n",
       "\t<tr><th scope=col>&lt;ord&gt;</th><th scope=col>&lt;ord&gt;</th><th scope=col>&lt;dbl&gt;</th><th scope=col>&lt;dbl&gt;</th><th scope=col>&lt;dbl&gt;</th><th scope=col>&lt;dbl&gt;</th></tr>\n",
       "</thead>\n",
       "<tbody>\n",
       "\t<tr><td>Basal</td><td>M    </td><td>558</td><td>  0</td><td>  0</td><td> 0</td></tr>\n",
       "\t<tr><td>Basal</td><td>V    </td><td>  0</td><td>  0</td><td>562</td><td>17</td></tr>\n",
       "\t<tr><td>Basal</td><td>VCy  </td><td>133</td><td>950</td><td> 68</td><td> 2</td></tr>\n",
       "\t<tr><td>Basal</td><td>VIf  </td><td>206</td><td>456</td><td>  7</td><td> 1</td></tr>\n",
       "\t<tr><td>Basal</td><td>VCyIf</td><td>799</td><td>  4</td><td>  0</td><td> 0</td></tr>\n",
       "\t<tr><td>Basal</td><td>MCyIf</td><td>750</td><td>  0</td><td>  0</td><td> 0</td></tr>\n",
       "</tbody>\n",
       "</table>\n"
      ],
      "text/latex": [
       "A tibble: 6 × 6\n",
       "\\begin{tabular}{llllll}\n",
       " cell\\_type & condition\\_short & Insignificant & Low & Medium & High\\\\\n",
       " <ord> & <ord> & <dbl> & <dbl> & <dbl> & <dbl>\\\\\n",
       "\\hline\n",
       "\t Basal & M     & 558 &   0 &   0 &  0\\\\\n",
       "\t Basal & V     &   0 &   0 & 562 & 17\\\\\n",
       "\t Basal & VCy   & 133 & 950 &  68 &  2\\\\\n",
       "\t Basal & VIf   & 206 & 456 &   7 &  1\\\\\n",
       "\t Basal & VCyIf & 799 &   4 &   0 &  0\\\\\n",
       "\t Basal & MCyIf & 750 &   0 &   0 &  0\\\\\n",
       "\\end{tabular}\n"
      ],
      "text/markdown": [
       "\n",
       "A tibble: 6 × 6\n",
       "\n",
       "| cell_type &lt;ord&gt; | condition_short &lt;ord&gt; | Insignificant &lt;dbl&gt; | Low &lt;dbl&gt; | Medium &lt;dbl&gt; | High &lt;dbl&gt; |\n",
       "|---|---|---|---|---|---|\n",
       "| Basal | M     | 558 |   0 |   0 |  0 |\n",
       "| Basal | V     |   0 |   0 | 562 | 17 |\n",
       "| Basal | VCy   | 133 | 950 |  68 |  2 |\n",
       "| Basal | VIf   | 206 | 456 |   7 |  1 |\n",
       "| Basal | VCyIf | 799 |   4 |   0 |  0 |\n",
       "| Basal | MCyIf | 750 |   0 |   0 |  0 |\n",
       "\n"
      ],
      "text/plain": [
       "  cell_type condition_short Insignificant Low Medium High\n",
       "1 Basal     M               558             0   0     0  \n",
       "2 Basal     V                 0             0 562    17  \n",
       "3 Basal     VCy             133           950  68     2  \n",
       "4 Basal     VIf             206           456   7     1  \n",
       "5 Basal     VCyIf           799             4   0     0  \n",
       "6 Basal     MCyIf           750             0   0     0  "
      ]
     },
     "metadata": {},
     "output_type": "display_data"
    }
   ],
   "source": [
    "tabs <- (\n",
    "    vlc_counts_c_full\n",
    "    %>% rename(category = vlc_c)\n",
    "    %>% pivot_wider(names_from=category, values_from=n_class)\n",
    ")\n",
    "tabs %>% head()"
   ]
  },
  {
   "cell_type": "code",
   "execution_count": 8,
   "metadata": {},
   "outputs": [],
   "source": [
    ".chisq_test_matrix <- function(m) {\n",
    "    if (1 == ncol(m) | 1 == nrow(m)) return(NA)\n",
    "    r <- chisq.test(m, simulate.p.value = TRUE, B=100000)\n",
    "    return(r$p.value)\n",
    "}\n",
    "\n",
    "chisq_test <- function(data) (\n",
    "    data\n",
    "    %>% select_if(is.numeric)\n",
    "    %>% select(where(~ any(. != 0)))\n",
    "    %>% as.matrix()\n",
    "    %>% .chisq_test_matrix()\n",
    ")"
   ]
  },
  {
   "cell_type": "markdown",
   "metadata": {},
   "source": [
    "# 3. Test Across Conditions"
   ]
  },
  {
   "cell_type": "code",
   "execution_count": 9,
   "metadata": {},
   "outputs": [
    {
     "data": {
      "text/html": [
       "<table class=\"dataframe\">\n",
       "<caption>A tibble: 4 × 10</caption>\n",
       "<thead>\n",
       "\t<tr><th scope=col>contrast</th><th scope=col>V_vs_M</th><th scope=col>VCy_vs_V</th><th scope=col>VIf_vs_V</th><th scope=col>VCyIf_vs_V</th><th scope=col>VCy_vs_VIf</th><th scope=col>VCyIf_vs_VCy</th><th scope=col>VCyIf_vs_VIf</th><th scope=col>MCyIf_vs_M</th><th scope=col>VCyIf_vs_M</th></tr>\n",
       "\t<tr><th scope=col>&lt;chr&gt;</th><th scope=col>&lt;chr&gt;</th><th scope=col>&lt;chr&gt;</th><th scope=col>&lt;chr&gt;</th><th scope=col>&lt;chr&gt;</th><th scope=col>&lt;chr&gt;</th><th scope=col>&lt;chr&gt;</th><th scope=col>&lt;chr&gt;</th><th scope=col>&lt;chr&gt;</th><th scope=col>&lt;chr&gt;</th></tr>\n",
       "</thead>\n",
       "<tbody>\n",
       "\t<tr><td><span style=white-space:pre-wrap>Basal    </span></td><td>&lt;0.001</td><td>&lt;0.001</td><td>&lt;0.001</td><td>&lt;0.001</td><td>&lt;0.001</td><td>&lt;0.001</td><td>&lt;0.001</td><td><span style=white-space:pre-wrap>NA    </span></td><td>0.149 </td></tr>\n",
       "\t<tr><td><span style=white-space:pre-wrap>BdiS     </span></td><td>&lt;0.001</td><td>&lt;0.001</td><td>&lt;0.001</td><td>&lt;0.001</td><td>&lt;0.001</td><td>&lt;0.001</td><td>&lt;0.001</td><td>&gt;0.999</td><td>0.612 </td></tr>\n",
       "\t<tr><td>Secretory</td><td>&lt;0.001</td><td>&lt;0.001</td><td>&lt;0.001</td><td>&lt;0.001</td><td>&lt;0.001</td><td>&lt;0.001</td><td>&lt;0.001</td><td>0.461 </td><td>&gt;0.999</td></tr>\n",
       "\t<tr><td>Ciliated </td><td>&lt;0.001</td><td>&lt;0.001</td><td>&lt;0.001</td><td>&lt;0.001</td><td>&lt;0.001</td><td>&lt;0.001</td><td>&lt;0.001</td><td>0.615 </td><td>0.005 </td></tr>\n",
       "</tbody>\n",
       "</table>\n"
      ],
      "text/latex": [
       "A tibble: 4 × 10\n",
       "\\begin{tabular}{llllllllll}\n",
       " contrast & V\\_vs\\_M & VCy\\_vs\\_V & VIf\\_vs\\_V & VCyIf\\_vs\\_V & VCy\\_vs\\_VIf & VCyIf\\_vs\\_VCy & VCyIf\\_vs\\_VIf & MCyIf\\_vs\\_M & VCyIf\\_vs\\_M\\\\\n",
       " <chr> & <chr> & <chr> & <chr> & <chr> & <chr> & <chr> & <chr> & <chr> & <chr>\\\\\n",
       "\\hline\n",
       "\t Basal     & <0.001 & <0.001 & <0.001 & <0.001 & <0.001 & <0.001 & <0.001 & NA     & 0.149 \\\\\n",
       "\t BdiS      & <0.001 & <0.001 & <0.001 & <0.001 & <0.001 & <0.001 & <0.001 & >0.999 & 0.612 \\\\\n",
       "\t Secretory & <0.001 & <0.001 & <0.001 & <0.001 & <0.001 & <0.001 & <0.001 & 0.461  & >0.999\\\\\n",
       "\t Ciliated  & <0.001 & <0.001 & <0.001 & <0.001 & <0.001 & <0.001 & <0.001 & 0.615  & 0.005 \\\\\n",
       "\\end{tabular}\n"
      ],
      "text/markdown": [
       "\n",
       "A tibble: 4 × 10\n",
       "\n",
       "| contrast &lt;chr&gt; | V_vs_M &lt;chr&gt; | VCy_vs_V &lt;chr&gt; | VIf_vs_V &lt;chr&gt; | VCyIf_vs_V &lt;chr&gt; | VCy_vs_VIf &lt;chr&gt; | VCyIf_vs_VCy &lt;chr&gt; | VCyIf_vs_VIf &lt;chr&gt; | MCyIf_vs_M &lt;chr&gt; | VCyIf_vs_M &lt;chr&gt; |\n",
       "|---|---|---|---|---|---|---|---|---|---|\n",
       "| Basal     | &lt;0.001 | &lt;0.001 | &lt;0.001 | &lt;0.001 | &lt;0.001 | &lt;0.001 | &lt;0.001 | NA     | 0.149  |\n",
       "| BdiS      | &lt;0.001 | &lt;0.001 | &lt;0.001 | &lt;0.001 | &lt;0.001 | &lt;0.001 | &lt;0.001 | &gt;0.999 | 0.612  |\n",
       "| Secretory | &lt;0.001 | &lt;0.001 | &lt;0.001 | &lt;0.001 | &lt;0.001 | &lt;0.001 | &lt;0.001 | 0.461  | &gt;0.999 |\n",
       "| Ciliated  | &lt;0.001 | &lt;0.001 | &lt;0.001 | &lt;0.001 | &lt;0.001 | &lt;0.001 | &lt;0.001 | 0.615  | 0.005  |\n",
       "\n"
      ],
      "text/plain": [
       "  contrast  V_vs_M VCy_vs_V VIf_vs_V VCyIf_vs_V VCy_vs_VIf VCyIf_vs_VCy\n",
       "1 Basal     <0.001 <0.001   <0.001   <0.001     <0.001     <0.001      \n",
       "2 BdiS      <0.001 <0.001   <0.001   <0.001     <0.001     <0.001      \n",
       "3 Secretory <0.001 <0.001   <0.001   <0.001     <0.001     <0.001      \n",
       "4 Ciliated  <0.001 <0.001   <0.001   <0.001     <0.001     <0.001      \n",
       "  VCyIf_vs_VIf MCyIf_vs_M VCyIf_vs_M\n",
       "1 <0.001       NA         0.149     \n",
       "2 <0.001       >0.999     0.612     \n",
       "3 <0.001       0.461      >0.999    \n",
       "4 <0.001       0.615      0.005     "
      ]
     },
     "metadata": {},
     "output_type": "display_data"
    }
   ],
   "source": [
    "condition_pairs_selectors <- (\n",
    "    c('V_vs_M', 'VCy_vs_V', 'VIf_vs_V', 'VCyIf_vs_V', 'VCy_vs_VIf',\n",
    "      'VCyIf_vs_VCy', 'VCyIf_vs_VIf', 'MCyIf_vs_M', 'VCyIf_vs_M')\n",
    "    %>% set_names()\n",
    "    %>% map(~str_split(.x, '_vs_')[[1]])\n",
    "    %>% map(~function(df)(df %>% filter(condition_short %in% .x)))\n",
    ")\n",
    "\n",
    "test_condition_pairs <- function(tbl)(\n",
    "    condition_pairs_selectors\n",
    "    %>% map(~.x(tbl))\n",
    "    %>% map(chisq_test)\n",
    ")\n",
    "    \n",
    "p_vals <- (\n",
    "    cell_type_levels\n",
    "    %>% set_names()\n",
    "    %>% map(~tabs %>% filter(cell_type == .x))\n",
    "    %>% map(test_condition_pairs)\n",
    "    %>% bind_rows(.id='contrast')\n",
    "    %>% mutate_if(is.numeric, scales::pvalue_format(accuracy=1e-3))\n",
    ")\n",
    "p_vals"
   ]
  },
  {
   "cell_type": "markdown",
   "metadata": {},
   "source": [
    "# 4. Test across cell types"
   ]
  },
  {
   "cell_type": "code",
   "execution_count": 10,
   "metadata": {},
   "outputs": [
    {
     "data": {
      "text/html": [
       "<table class=\"dataframe\">\n",
       "<caption>A tibble: 6 × 4</caption>\n",
       "<thead>\n",
       "\t<tr><th scope=col>condition_short</th><th scope=col>BdiS_vs_Basal</th><th scope=col>Secretory_vs_BdiS</th><th scope=col>Ciliated_vs_Secretory</th></tr>\n",
       "\t<tr><th scope=col>&lt;chr&gt;</th><th scope=col>&lt;chr&gt;</th><th scope=col>&lt;chr&gt;</th><th scope=col>&lt;chr&gt;</th></tr>\n",
       "</thead>\n",
       "<tbody>\n",
       "\t<tr><td><span style=white-space:pre-wrap>M    </span></td><td>0.288 </td><td>&gt;0.999</td><td>0.606 </td></tr>\n",
       "\t<tr><td><span style=white-space:pre-wrap>V    </span></td><td>&lt;0.001</td><td>&lt;0.001</td><td>&lt;0.001</td></tr>\n",
       "\t<tr><td><span style=white-space:pre-wrap>VCy  </span></td><td>&lt;0.001</td><td>0.005 </td><td>&lt;0.001</td></tr>\n",
       "\t<tr><td><span style=white-space:pre-wrap>VIf  </span></td><td>0.117 </td><td>0.502 </td><td>&lt;0.001</td></tr>\n",
       "\t<tr><td>VCyIf</td><td>0.611 </td><td>0.122 </td><td>&lt;0.001</td></tr>\n",
       "\t<tr><td>MCyIf</td><td>0.306 </td><td>0.380 </td><td>0.451 </td></tr>\n",
       "</tbody>\n",
       "</table>\n"
      ],
      "text/latex": [
       "A tibble: 6 × 4\n",
       "\\begin{tabular}{llll}\n",
       " condition\\_short & BdiS\\_vs\\_Basal & Secretory\\_vs\\_BdiS & Ciliated\\_vs\\_Secretory\\\\\n",
       " <chr> & <chr> & <chr> & <chr>\\\\\n",
       "\\hline\n",
       "\t M     & 0.288  & >0.999 & 0.606 \\\\\n",
       "\t V     & <0.001 & <0.001 & <0.001\\\\\n",
       "\t VCy   & <0.001 & 0.005  & <0.001\\\\\n",
       "\t VIf   & 0.117  & 0.502  & <0.001\\\\\n",
       "\t VCyIf & 0.611  & 0.122  & <0.001\\\\\n",
       "\t MCyIf & 0.306  & 0.380  & 0.451 \\\\\n",
       "\\end{tabular}\n"
      ],
      "text/markdown": [
       "\n",
       "A tibble: 6 × 4\n",
       "\n",
       "| condition_short &lt;chr&gt; | BdiS_vs_Basal &lt;chr&gt; | Secretory_vs_BdiS &lt;chr&gt; | Ciliated_vs_Secretory &lt;chr&gt; |\n",
       "|---|---|---|---|\n",
       "| M     | 0.288  | &gt;0.999 | 0.606  |\n",
       "| V     | &lt;0.001 | &lt;0.001 | &lt;0.001 |\n",
       "| VCy   | &lt;0.001 | 0.005  | &lt;0.001 |\n",
       "| VIf   | 0.117  | 0.502  | &lt;0.001 |\n",
       "| VCyIf | 0.611  | 0.122  | &lt;0.001 |\n",
       "| MCyIf | 0.306  | 0.380  | 0.451  |\n",
       "\n"
      ],
      "text/plain": [
       "  condition_short BdiS_vs_Basal Secretory_vs_BdiS Ciliated_vs_Secretory\n",
       "1 M               0.288         >0.999            0.606                \n",
       "2 V               <0.001        <0.001            <0.001               \n",
       "3 VCy             <0.001        0.005             <0.001               \n",
       "4 VIf             0.117         0.502             <0.001               \n",
       "5 VCyIf           0.611         0.122             <0.001               \n",
       "6 MCyIf           0.306         0.380             0.451                "
      ]
     },
     "metadata": {},
     "output_type": "display_data"
    }
   ],
   "source": [
    "cell_type_pairs_selectors <- (\n",
    "    c('BdiS_vs_Basal', 'Secretory_vs_BdiS', 'Ciliated_vs_Secretory')\n",
    "    %>% set_names()\n",
    "    %>% map(~str_split(.x, '_vs_')[[1]])\n",
    "    %>% map(~function(df)(df %>% filter(cell_type %in% .x)))\n",
    ")\n",
    "    \n",
    "test_cell_type_pairs <- function(tbl)(\n",
    "    cell_type_pairs_selectors\n",
    "    %>% map(~.x(tbl))\n",
    "    %>% map(chisq_test)\n",
    ")\n",
    "    \n",
    "p_vals <- (\n",
    "    conditions_meta$condition_short\n",
    "    %>% set_names()\n",
    "    %>% map(~tabs %>% filter(condition_short == .x))\n",
    "    %>% map(test_cell_type_pairs)\n",
    "    %>% bind_rows(.id='condition_short')\n",
    "    %>% mutate_if(is.numeric, scales::pvalue_format(accuracy=1e-3))\n",
    ")\n",
    "p_vals"
   ]
  },
  {
   "cell_type": "code",
   "execution_count": null,
   "metadata": {},
   "outputs": [],
   "source": []
  }
 ],
 "metadata": {
  "kernelspec": {
   "display_name": "R",
   "language": "R",
   "name": "ir"
  },
  "language_info": {
   "codemirror_mode": "r",
   "file_extension": ".r",
   "mimetype": "text/x-r-source",
   "name": "R",
   "pygments_lexer": "r",
   "version": "4.1.2"
  }
 },
 "nbformat": 4,
 "nbformat_minor": 4
}
